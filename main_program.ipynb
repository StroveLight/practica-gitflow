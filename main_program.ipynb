{
 "cells": [
  {
   "cell_type": "markdown",
   "id": "2a0cf0c3",
   "metadata": {},
   "source": [
    "## imports\n",
    "\n"
   ]
  },
  {
   "cell_type": "code",
   "execution_count": 30,
   "id": "29c6e0f6",
   "metadata": {},
   "outputs": [],
   "source": [
    "from os.path import join\n",
    "from json import loads\n",
    "from collections import defaultdict"
   ]
  },
  {
   "cell_type": "markdown",
   "id": "7c60311c",
   "metadata": {},
   "source": [
    "## environment variables"
   ]
  },
  {
   "cell_type": "code",
   "execution_count": 3,
   "id": "122f0e37",
   "metadata": {},
   "outputs": [],
   "source": [
    "DATABASE_NAME = join('.', \"farmers-protest-tweets-2021-03-5.json\")"
   ]
  },
  {
   "cell_type": "markdown",
   "id": "e284b5c4",
   "metadata": {},
   "source": [
    "## classes"
   ]
  },
  {
   "cell_type": "code",
   "execution_count": 34,
   "id": "e7af2d6d",
   "metadata": {},
   "outputs": [],
   "source": [
    "class RefInt:\n",
    "    def __init__(self, reference):\n",
    "        self.ref = reference\n",
    "    def __lt__(self, other):\n",
    "        return self.ref < other.ref"
   ]
  },
  {
   "cell_type": "markdown",
   "id": "36e0536c",
   "metadata": {},
   "source": [
    "# FEATURE CODE"
   ]
  },
  {
   "cell_type": "markdown",
   "id": "8a61b182",
   "metadata": {},
   "source": [
    " ## feature 1 code"
   ]
  },
  {
   "cell_type": "code",
   "execution_count": 58,
   "id": "79869624",
   "metadata": {},
   "outputs": [
    {
     "name": "stdout",
     "output_type": "stream",
     "text": [
      "('number   | url', ((904547, 'https://twitter.com/MrBeast/status/1362997215308906498'), (315557, 'https://twitter.com/rihanna/status/1356625889602199552'), (236683, 'https://twitter.com/pulte/status/1365015962433564675'), (152380, 'https://twitter.com/rihanna/status/254929287726116864'), (137786, 'https://twitter.com/Twitter/status/1357000724593442816'), (123338, 'https://twitter.com/KingSalman/status/1330103721506840578'), (116239, 'https://twitter.com/elonmusk/status/1358542364948668418'), (115492, 'https://twitter.com/elonmusk/status/1357244295091208193'), (111737, 'https://twitter.com/rihanna/status/1351997615328661506'), (103960, 'https://twitter.com/GretaThunberg/status/1356694884615340037')))\n"
     ]
    }
   ],
   "source": [
    "def top10_retweets():\n",
    "    top10 = list()\n",
    "    ints = dict()\n",
    "    def hook(dict_):\n",
    "        if type(dict_) != dict:\n",
    "            return dict_\n",
    "        if \"url\" in dict_ and \"retweetCount\" in dict_:\n",
    "            url = dict_[\"url\"]\n",
    "            retwcount = dict_[\"retweetCount\"]\n",
    "            if url not in ints:\n",
    "                ints[url] = RefInt(retwcount)\n",
    "                top10.append((ints[url], url))\n",
    "            elif ints[url].ref < retwcount:\n",
    "                ints[url].ref = retwcount\n",
    "                if (ints[url], url) not in top10:\n",
    "                    top10.append((ints[url], url))\n",
    "            else:\n",
    "                return {}\n",
    "            top10.sort(reverse=True)\n",
    "            del top10[10:]\n",
    "            return {}\n",
    "    with open(DATABASE_NAME, \"r\", encoding=\"utf-8\") as file:\n",
    "        for line in file:\n",
    "            loads(f'{line.strip()}',  object_hook=hook)\n",
    "    return (\"number   | url\", tuple((n.ref, url) for n, url in top10))"
   ]
  },
  {
   "cell_type": "markdown",
   "id": "3875862f",
   "metadata": {},
   "source": [
    "## feature 2 code"
   ]
  },
  {
   "cell_type": "code",
   "execution_count": 55,
   "id": "e5af87ea",
   "metadata": {},
   "outputs": [
    {
     "name": "stdout",
     "output_type": "stream",
     "text": [
      "number  | user id\n",
      "    7134, 980633168981061632\n",
      "    2091, 69027875\n",
      "    1991, 2930682630\n",
      "    1841, 452391771\n",
      "    1806, 1354532795847073796\n",
      "    1722, 48085084\n",
      "    1502, 872085660886282240\n",
      "    1460, 1340186972615307264\n",
      "    1453, 1309302936317636608\n",
      "    1446, 921732117024919552\n"
     ]
    }
   ],
   "source": [
    "def top10_twit_senders():\n",
    "    top10 = list()\n",
    "    twits = defaultdict(set)\n",
    "    def hook(dict_):\n",
    "        if type(dict_) != dict:\n",
    "            return dict_\n",
    "        elif \"id\" in dict_ and \"user\" in dict_:\n",
    "            ret = {\n",
    "                \"id\": dict_[\"id\"]\n",
    "            }\n",
    "            if \"user\" in dict_:\n",
    "                ret.update({\"user\": dict_[\"user\"][\"id\"]})\n",
    "            return ret\n",
    "        elif \"id\" in dict_:\n",
    "            return {\n",
    "                \"id\": dict_[\"id\"]\n",
    "            }\n",
    "    with open(DATABASE_NAME, \"r\", encoding=\"utf-8\") as file:\n",
    "        for line in file.readlines():\n",
    "            data = loads(f'{line.strip()}',  object_hook=hook)\n",
    "            twits[data[\"user\"]].add(data[\"id\"])\n",
    "    top = [(len(set_), user) for user, set_ in twits.items()]\n",
    "    top.sort(reverse=True)\n",
    "    return ((\"number   | user id\"), top)"
   ]
  },
  {
   "cell_type": "markdown",
   "id": "416ba344",
   "metadata": {},
   "source": [
    "## feature 3 code"
   ]
  },
  {
   "cell_type": "code",
   "execution_count": null,
   "id": "2807f8f3",
   "metadata": {},
   "outputs": [],
   "source": [
    "def top10_twit_days():\n",
    "    pass"
   ]
  },
  {
   "cell_type": "markdown",
   "id": "be091523",
   "metadata": {},
   "source": [
    "## feature 4 code"
   ]
  },
  {
   "cell_type": "code",
   "execution_count": null,
   "id": "1f7bf4f0",
   "metadata": {},
   "outputs": [],
   "source": [
    "def top10_hashtags():\n",
    "    pass"
   ]
  },
  {
   "cell_type": "markdown",
   "id": "fccb09ea",
   "metadata": {},
   "source": [
    "## main function code"
   ]
  },
  {
   "cell_type": "code",
   "execution_count": null,
   "id": "5a57e02b",
   "metadata": {},
   "outputs": [],
   "source": [
    "def Main():\n",
    "    pass"
   ]
  },
  {
   "cell_type": "markdown",
   "id": "9b052060",
   "metadata": {},
   "source": [
    "# Main function execution"
   ]
  },
  {
   "cell_type": "code",
   "execution_count": null,
   "id": "f04cedb6",
   "metadata": {},
   "outputs": [],
   "source": [
    "Main()"
   ]
  }
 ],
 "metadata": {
  "kernelspec": {
   "display_name": "Python 3 (ipykernel)",
   "language": "python",
   "name": "python3"
  },
  "language_info": {
   "codemirror_mode": {
    "name": "ipython",
    "version": 3
   },
   "file_extension": ".py",
   "mimetype": "text/x-python",
   "name": "python",
   "nbconvert_exporter": "python",
   "pygments_lexer": "ipython3",
   "version": "3.10.3"
  }
 },
 "nbformat": 4,
 "nbformat_minor": 5
}
