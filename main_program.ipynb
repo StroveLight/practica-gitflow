{
 "cells": [
  {
   "cell_type": "markdown",
   "id": "2a0cf0c3",
   "metadata": {},
   "source": [
    "## imports\n",
    "\n"
   ]
  },
  {
   "cell_type": "code",
   "execution_count": null,
   "id": "29c6e0f6",
   "metadata": {},
   "outputs": [],
   "source": [
    "from os.path import join\n",
    "from json import load"
   ]
  },
  {
   "cell_type": "markdown",
   "id": "7c60311c",
   "metadata": {},
   "source": [
    "## environment variables"
   ]
  },
  {
   "cell_type": "code",
   "execution_count": null,
   "id": "122f0e37",
   "metadata": {},
   "outputs": [],
   "source": [
    "DATABASE_NAME = join('.', \"farmers-protest-tweets-2021-03-5.json\")"
   ]
  },
  {
   "cell_type": "markdown",
   "id": "36e0536c",
   "metadata": {},
   "source": [
    "# FEATURE CODE"
   ]
  },
  {
   "cell_type": "markdown",
   "id": "8a61b182",
   "metadata": {},
   "source": [
    " ## feature 1 code"
   ]
  },
  {
   "cell_type": "code",
   "execution_count": null,
   "id": "79869624",
   "metadata": {},
   "outputs": [],
   "source": [
    "def top10_retweets():\n",
    "    pass"
   ]
  },
  {
   "cell_type": "markdown",
   "id": "3875862f",
   "metadata": {},
   "source": [
    "## feature 2 code"
   ]
  },
  {
   "cell_type": "code",
   "execution_count": null,
   "id": "e5af87ea",
   "metadata": {},
   "outputs": [],
   "source": [
    "def top10_twit_senders():\n",
    "    pass"
   ]
  },
  {
   "cell_type": "markdown",
   "id": "416ba344",
   "metadata": {},
   "source": [
    "## feature 3 code"
   ]
  },
  {
   "cell_type": "code",
   "execution_count": null,
   "id": "2807f8f3",
   "metadata": {},
   "outputs": [],
   "source": [
    "def top10_twit_days():\n",
    "    pass"
   ]
  },
  {
   "cell_type": "markdown",
   "id": "be091523",
   "metadata": {},
   "source": [
    "## feature 4 code"
   ]
  },
  {
   "cell_type": "code",
   "execution_count": null,
   "id": "1f7bf4f0",
   "metadata": {},
   "outputs": [],
   "source": [
    "def top10_hashtags():\n",
    "    pass"
   ]
  },
  {
   "cell_type": "markdown",
   "id": "fccb09ea",
   "metadata": {},
   "source": [
    "## main function code"
   ]
  },
  {
   "cell_type": "code",
   "execution_count": null,
   "id": "5a57e02b",
   "metadata": {},
   "outputs": [],
   "source": [
    "def Main():\n",
    "    pass"
   ]
  },
  {
   "cell_type": "markdown",
   "id": "9b052060",
   "metadata": {},
   "source": [
    "# Main function execution"
   ]
  },
  {
   "cell_type": "code",
   "execution_count": null,
   "id": "f04cedb6",
   "metadata": {},
   "outputs": [],
   "source": [
    "Main()"
   ]
  }
 ],
 "metadata": {
  "kernelspec": {
   "display_name": "Python 3 (ipykernel)",
   "language": "python",
   "name": "python3"
  },
  "language_info": {
   "codemirror_mode": {
    "name": "ipython",
    "version": 3
   },
   "file_extension": ".py",
   "mimetype": "text/x-python",
   "name": "python",
   "nbconvert_exporter": "python",
   "pygments_lexer": "ipython3",
   "version": "3.10.3"
  }
 },
 "nbformat": 4,
 "nbformat_minor": 5
}
