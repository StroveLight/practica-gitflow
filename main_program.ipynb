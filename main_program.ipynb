{
 "cells": [
  {
   "cell_type": "markdown",
   "id": "2a0cf0c3",
   "metadata": {},
   "source": [
    "## imports\n",
    "\n"
   ]
  },
  {
   "cell_type": "code",
   "execution_count": null,
   "id": "29c6e0f6",
   "metadata": {},
   "outputs": [],
   "source": [
    "from os.path import join\n",
    "from json import loads\n",
    "from collections import defaultdict"
   ]
  },
  {
   "cell_type": "markdown",
   "id": "7c60311c",
   "metadata": {},
   "source": [
    "## environment variables"
   ]
  },
  {
   "cell_type": "code",
   "execution_count": null,
   "id": "122f0e37",
   "metadata": {},
   "outputs": [],
   "source": [
    "DATABASE_NAME = join('.', \"farmers-protest-tweets-2021-03-5.json\")"
   ]
  },
  {
   "cell_type": "markdown",
   "id": "e284b5c4",
   "metadata": {},
   "source": [
    "## classes"
   ]
  },
  {
   "cell_type": "code",
   "execution_count": null,
   "id": "e7af2d6d",
   "metadata": {},
   "outputs": [],
   "source": [
    "class RefInt:\n",
    "    def __init__(self, reference):\n",
    "        self.ref = reference\n",
    "    def __lt__(self, other):\n",
    "        return self.ref < other.ref"
   ]
  },
  {
   "cell_type": "markdown",
   "id": "36e0536c",
   "metadata": {},
   "source": [
    "# FEATURE CODE"
   ]
  },
  {
   "cell_type": "markdown",
   "id": "8a61b182",
   "metadata": {},
   "source": [
    " ## feature 1 code"
   ]
  },
  {
   "cell_type": "code",
   "execution_count": null,
   "id": "79869624",
   "metadata": {},
   "outputs": [],
   "source": [
    "def top10_retweets():\n",
    "    top10 = list()\n",
    "    ints = dict()\n",
    "    def hook(dict_):\n",
    "        if type(dict_) != dict:\n",
    "            return dict_\n",
    "        if \"url\" in dict_ and \"retweetCount\" in dict_:\n",
    "            url = dict_[\"url\"]\n",
    "            retwcount = dict_[\"retweetCount\"]\n",
    "            if url not in ints:\n",
    "                ints[url] = RefInt(retwcount)\n",
    "                top10.append((ints[url], url))\n",
    "            elif ints[url].ref < retwcount:\n",
    "                ints[url].ref = retwcount\n",
    "                if (ints[url], url) not in top10:\n",
    "                    top10.append((ints[url], url))\n",
    "            else:\n",
    "                return {}\n",
    "            top10.sort(reverse=True)\n",
    "            del top10[10:]\n",
    "            return {}\n",
    "    with open(DATABASE_NAME, \"r\", encoding=\"utf-8\") as file:\n",
    "        for line in file:\n",
    "            loads(f'{line.strip()}',  object_hook=hook)\n",
    "    return (\"number   | url\", tuple((n.ref, url) for n, url in top10))"
   ]
  },
  {
   "cell_type": "markdown",
   "id": "3875862f",
   "metadata": {},
   "source": [
    "## feature 2 code"
   ]
  },
  {
   "cell_type": "code",
   "execution_count": null,
   "id": "e5af87ea",
   "metadata": {},
   "outputs": [],
   "source": [
    "def top10_twit_senders():\n",
    "    top10 = list()\n",
    "    twits = defaultdict(set)\n",
    "    def hook(dict_):\n",
    "        if type(dict_) != dict:\n",
    "            return dict_\n",
    "        elif \"id\" in dict_ and \"user\" in dict_:\n",
    "            ret = {\n",
    "                \"id\": dict_[\"id\"]\n",
    "            }\n",
    "            if \"user\" in dict_:\n",
    "                ret.update({\"user\": dict_[\"user\"][\"id\"]})\n",
    "            return ret\n",
    "        elif \"id\" in dict_:\n",
    "            return {\n",
    "                \"id\": dict_[\"id\"]\n",
    "            }\n",
    "    with open(DATABASE_NAME, \"r\", encoding=\"utf-8\") as file:\n",
    "        for line in file.readlines():\n",
    "            data = loads(f'{line.strip()}',  object_hook=hook)\n",
    "            twits[data[\"user\"]].add(data[\"id\"])\n",
    "    top = [(len(set_), user) for user, set_ in twits.items()]\n",
    "    top.sort(reverse=True)\n",
    "    return ((\"number   | user id\"), top[:10])"
   ]
  },
  {
   "cell_type": "markdown",
   "id": "416ba344",
   "metadata": {},
   "source": [
    "## feature 3 code"
   ]
  },
  {
   "cell_type": "code",
   "execution_count": null,
   "id": "2807f8f3",
   "metadata": {},
   "outputs": [],
   "source": [
    "def top10_twit_days():\n",
    "    top10 = list()\n",
    "    twits = set()\n",
    "    days = defaultdict(set)\n",
    "    def hook(dict_):\n",
    "        if type(dict_) != dict:\n",
    "            return dict_\n",
    "        elif \"id\" in dict_ and \"created\" in dict_:\n",
    "            ret = {\n",
    "                \"id\": dict_[\"id\"]\n",
    "            }\n",
    "            if dict_[\"id\"] in twits:\n",
    "                return {}\n",
    "            if \"created\" in dict_:\n",
    "                if not dict_[\"created\"]:\n",
    "                    return {}\n",
    "                ret.update({\"created\": dict_[\"created\"].split(\"T\")[0]})\n",
    "            days[dict_[\"created\"].split(\"T\")[0]].add(dict_[\"id\"])\n",
    "            twits.add(dict_[\"id\"])\n",
    "            return ret\n",
    "    with open(DATABASE_NAME, \"r\", encoding=\"utf-8\") as file:\n",
    "        for line in file.readlines():\n",
    "            loads(f'{line.strip()}',  object_hook=hook)\n",
    "    top = [(len(set_), user) for user, set_ in days.items()]\n",
    "    top.sort(reverse=True)\n",
    "    return ((\"number   | date\"), top[:10])"
   ]
  },
  {
   "cell_type": "markdown",
   "id": "be091523",
   "metadata": {},
   "source": [
    "## feature 4 code"
   ]
  },
  {
   "cell_type": "code",
   "execution_count": null,
   "id": "1f7bf4f0",
   "metadata": {},
   "outputs": [],
   "source": [
    "def top10_hashtags():\n",
    "    top10 = list()\n",
    "    hashtags = defaultdict(set)\n",
    "    def hook(dict_):\n",
    "        if type(dict_) != dict:\n",
    "            return dict_\n",
    "        elif \"url\" in dict_ and \"content\" in dict_:\n",
    "            ret = {\n",
    "                \"id\": dict_[\"id\"]\n",
    "            }\n",
    "            if \"content\" in dict_:\n",
    "                ret.update({\"content\": dict_[\"content\"]})\n",
    "            return ret\n",
    "        elif \"id\" in dict_:\n",
    "            return {\n",
    "                \"id\": dict_[\"id\"]\n",
    "            }\n",
    "    with open(DATABASE_NAME, \"r\", encoding=\"utf-8\") as file:\n",
    "        for line in file.readlines():\n",
    "            data = loads(f'{line.strip()}',  object_hook=hook)\n",
    "            twit_hashtags = list()\n",
    "            current = \"\"\n",
    "            in_hashtag = False\n",
    "            for c in data[\"content\"]:\n",
    "                if \"#\" == c:\n",
    "                    in_hashtag = True\n",
    "                elif c == \" \":\n",
    "                    if in_hashtag:\n",
    "                        twit_hashtags.append(\"#\"+current)\n",
    "                        current = \"\"\n",
    "                    in_hashtag = False\n",
    "                else:\n",
    "                    if in_hashtag:\n",
    "                        current += c\n",
    "            if in_hashtag:\n",
    "                twit_hashtags.append(\"#\"+current)\n",
    "            for hashtag in twit_hashtags:\n",
    "                hashtags[hashtag.lower()].add(data[\"id\"])\n",
    "    top = [(len(set_), user) for user, set_ in hashtags.items()]\n",
    "    top.sort(reverse=True)\n",
    "    return ((\"number   | Hashtag\"), top[:10])"
   ]
  },
  {
   "cell_type": "markdown",
   "id": "fccb09ea",
   "metadata": {},
   "source": [
    "## main function code"
   ]
  },
  {
   "cell_type": "code",
   "execution_count": null,
   "id": "5a57e02b",
   "metadata": {},
   "outputs": [],
   "source": [
    "def Main():\n",
    "    functions = {\"1\": top10_retweets, \"2\": top10_twit_senders, \"3\": top10_twit_days, \"4\": top10_hashtags}\n",
    "    while True:\n",
    "        print(\"choose an action\")\n",
    "        print(\"[1] top 10 most retweeted tweets\")\n",
    "        print(\"[2] top 10 users with most tweets\")\n",
    "        print(\"[3] top 10 days with most tweets\")\n",
    "        print(\"[4] top 10 most used hashtags\")\n",
    "        print(\"[any other] Exit\")\n",
    "        input_ = input(\"$>\").strip()\n",
    "        if input_ not in functions:\n",
    "            break\n",
    "        out1, out2 = functions[input_]()\n",
    "        print(out1)\n",
    "        for out21, out22 in out2:\n",
    "            print(f\"{out21:8d} | {out22}\")\n",
    "    print(\"goodbye\")"
   ]
  },
  {
   "cell_type": "markdown",
   "id": "9b052060",
   "metadata": {},
   "source": [
    "# Main function execution"
   ]
  },
  {
   "cell_type": "code",
   "execution_count": null,
   "id": "f04cedb6",
   "metadata": {},
   "outputs": [],
   "source": [
    "Main()"
   ]
  }
 ],
 "metadata": {
  "kernelspec": {
   "display_name": "Python 3 (ipykernel)",
   "language": "python",
   "name": "python3"
  },
  "language_info": {
   "codemirror_mode": {
    "name": "ipython",
    "version": 3
   },
   "file_extension": ".py",
   "mimetype": "text/x-python",
   "name": "python",
   "nbconvert_exporter": "python",
   "pygments_lexer": "ipython3",
   "version": "3.10.3"
  }
 },
 "nbformat": 4,
 "nbformat_minor": 5
}
