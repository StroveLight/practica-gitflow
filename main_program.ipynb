{
 "cells": [
  {
   "cell_type": "markdown",
   "id": "2a0cf0c3",
   "metadata": {},
   "source": [
    "## imports\n",
    "\n"
   ]
  },
  {
   "cell_type": "code",
   "execution_count": 30,
   "id": "29c6e0f6",
   "metadata": {},
   "outputs": [],
   "source": [
    "from os.path import join\n",
    "from json import loads\n",
    "from collections import defaultdict"
   ]
  },
  {
   "cell_type": "markdown",
   "id": "7c60311c",
   "metadata": {},
   "source": [
    "## environment variables"
   ]
  },
  {
   "cell_type": "code",
   "execution_count": 3,
   "id": "122f0e37",
   "metadata": {},
   "outputs": [],
   "source": [
    "DATABASE_NAME = join('.', \"farmers-protest-tweets-2021-03-5.json\")"
   ]
  },
  {
   "cell_type": "code",
   "execution_count": null,
   "id": "444f6650",
   "metadata": {},
   "outputs": [],
   "source": []
  },
  {
   "cell_type": "code",
   "execution_count": 34,
   "id": "40705ba0",
   "metadata": {},
   "outputs": [],
   "source": [
    "class RefInt:\n",
    "    def __init__(self, reference):\n",
    "        self.ref = reference\n",
    "    def __lt__(self, other):\n",
    "        return self.ref < other.ref"
   ]
  },
  {
   "cell_type": "markdown",
   "id": "36e0536c",
   "metadata": {},
   "source": [
    "# FEATURE CODE"
   ]
  },
  {
   "cell_type": "markdown",
   "id": "8a61b182",
   "metadata": {},
   "source": [
    " ## feature 1 code"
   ]
  },
  {
   "cell_type": "code",
   "execution_count": 35,
   "id": "79869624",
   "metadata": {},
   "outputs": [
    {
     "ename": "TypeError",
     "evalue": "unsupported format string passed to RefInt.__format__",
     "output_type": "error",
     "traceback": [
      "\u001b[1;31m---------------------------------------------------------------------------\u001b[0m",
      "\u001b[1;31mTypeError\u001b[0m                                 Traceback (most recent call last)",
      "Input \u001b[1;32mIn [35]\u001b[0m, in \u001b[0;36m<cell line: 27>\u001b[1;34m()\u001b[0m\n\u001b[0;32m     25\u001b[0m     \u001b[38;5;28;01mfor\u001b[39;00m n, url \u001b[38;5;129;01min\u001b[39;00m top10:\n\u001b[0;32m     26\u001b[0m         \u001b[38;5;28mprint\u001b[39m(\u001b[38;5;124mf\u001b[39m\u001b[38;5;124m\"\u001b[39m\u001b[38;5;132;01m{\u001b[39;00mn\u001b[38;5;132;01m:\u001b[39;00m\u001b[38;5;124m8d\u001b[39m\u001b[38;5;132;01m}\u001b[39;00m\u001b[38;5;124m, \u001b[39m\u001b[38;5;132;01m{\u001b[39;00murl\u001b[38;5;132;01m}\u001b[39;00m\u001b[38;5;124m\"\u001b[39m)\n\u001b[1;32m---> 27\u001b[0m \u001b[43mtop10_retweets\u001b[49m\u001b[43m(\u001b[49m\u001b[43m)\u001b[49m\n",
      "Input \u001b[1;32mIn [35]\u001b[0m, in \u001b[0;36mtop10_retweets\u001b[1;34m()\u001b[0m\n\u001b[0;32m     24\u001b[0m         loads(\u001b[38;5;124mf\u001b[39m\u001b[38;5;124m'\u001b[39m\u001b[38;5;132;01m{\u001b[39;00mline\u001b[38;5;241m.\u001b[39mstrip()\u001b[38;5;132;01m}\u001b[39;00m\u001b[38;5;124m'\u001b[39m,  object_hook\u001b[38;5;241m=\u001b[39mhook)\n\u001b[0;32m     25\u001b[0m \u001b[38;5;28;01mfor\u001b[39;00m n, url \u001b[38;5;129;01min\u001b[39;00m top10:\n\u001b[1;32m---> 26\u001b[0m     \u001b[38;5;28mprint\u001b[39m(\u001b[38;5;124mf\u001b[39m\u001b[38;5;124m\"\u001b[39m\u001b[38;5;132;01m{\u001b[39;00mn\u001b[38;5;132;01m:\u001b[39;00m\u001b[38;5;124m8d\u001b[39m\u001b[38;5;132;01m}\u001b[39;00m\u001b[38;5;124m, \u001b[39m\u001b[38;5;132;01m{\u001b[39;00murl\u001b[38;5;132;01m}\u001b[39;00m\u001b[38;5;124m\"\u001b[39m)\n",
      "\u001b[1;31mTypeError\u001b[0m: unsupported format string passed to RefInt.__format__"
     ]
    }
   ],
   "source": [
    "def top10_retweets():\n",
    "    top10 = list()\n",
    "    ints = dict()\n",
    "    def hook(dict_):\n",
    "        if type(dict_) != dict:\n",
    "            return dict_\n",
    "        if \"url\" in dict_ and \"retweetCount\" in dict_:\n",
    "            url = dict_[\"url\"]\n",
    "            retwcount = dict_[\"retweetCount\"]\n",
    "            if url not in ints:\n",
    "                ints[url] = RefInt(retwcount)\n",
    "                top10.append((ints[url], url))\n",
    "            elif ints[url].ref < retwcount:\n",
    "                ints[url].ref = retwcount\n",
    "                if (ints[url], url) not in top10:\n",
    "                    top10.append((ints[url], url))\n",
    "            else:\n",
    "                return {}\n",
    "            top10.sort(reverse=True)\n",
    "            del top10[10:]\n",
    "            return {}\n",
    "    with open(DATABASE_NAME, \"r\", encoding=\"utf-8\") as file:\n",
    "        for line in file:\n",
    "            loads(f'{line.strip()}',  object_hook=hook)\n",
    "    for n, url in top10:\n",
    "        print(f\"{n-ref:8d}, {url}\")\n",
    "top10_retweets()"
   ]
  },
  {
   "cell_type": "markdown",
   "id": "3875862f",
   "metadata": {},
   "source": [
    "## feature 2 code"
   ]
  },
  {
   "cell_type": "code",
   "execution_count": null,
   "id": "e5af87ea",
   "metadata": {},
   "outputs": [],
   "source": [
    "def top10_twit_senders():\n",
    "    pass"
   ]
  },
  {
   "cell_type": "markdown",
   "id": "416ba344",
   "metadata": {},
   "source": [
    "## feature 3 code"
   ]
  },
  {
   "cell_type": "code",
   "execution_count": null,
   "id": "2807f8f3",
   "metadata": {},
   "outputs": [],
   "source": [
    "def top10_twit_days():\n",
    "    pass"
   ]
  },
  {
   "cell_type": "markdown",
   "id": "be091523",
   "metadata": {},
   "source": [
    "## feature 4 code"
   ]
  },
  {
   "cell_type": "code",
   "execution_count": null,
   "id": "1f7bf4f0",
   "metadata": {},
   "outputs": [],
   "source": [
    "def top10_hashtags():\n",
    "    pass"
   ]
  },
  {
   "cell_type": "markdown",
   "id": "fccb09ea",
   "metadata": {},
   "source": [
    "## main function code"
   ]
  },
  {
   "cell_type": "code",
   "execution_count": null,
   "id": "5a57e02b",
   "metadata": {},
   "outputs": [],
   "source": [
    "def Main():\n",
    "    pass"
   ]
  },
  {
   "cell_type": "markdown",
   "id": "9b052060",
   "metadata": {},
   "source": [
    "# Main function execution"
   ]
  },
  {
   "cell_type": "code",
   "execution_count": null,
   "id": "f04cedb6",
   "metadata": {},
   "outputs": [],
   "source": [
    "Main()"
   ]
  }
 ],
 "metadata": {
  "kernelspec": {
   "display_name": "Python 3 (ipykernel)",
   "language": "python",
   "name": "python3"
  },
  "language_info": {
   "codemirror_mode": {
    "name": "ipython",
    "version": 3
   },
   "file_extension": ".py",
   "mimetype": "text/x-python",
   "name": "python",
   "nbconvert_exporter": "python",
   "pygments_lexer": "ipython3",
   "version": "3.10.3"
  }
 },
 "nbformat": 4,
 "nbformat_minor": 5
}
